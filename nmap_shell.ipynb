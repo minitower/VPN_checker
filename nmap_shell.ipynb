{
 "cells": [
  {
   "cell_type": "code",
   "execution_count": null,
   "metadata": {},
   "outputs": [],
   "source": [
    "from main import *\n",
    "\n",
    "df = load_target_ip(date=r'2022-01-01')\n",
    "df = df.loc[df['IP'].str.len() <= 16]\n"
   ]
  },
  {
   "cell_type": "code",
   "execution_count": null,
   "metadata": {},
   "outputs": [],
   "source": [
    "import pandas as pd\n",
    "\n",
    "from vpn_check.nmap_module import nmapModule\n",
    "from extra.file_task import FileWork\n",
    "from extra.ch_driver import ClickHouse\n",
    "from multiprocessing import Process\n",
    "\n",
    "def main(target, methods=None):\n",
    "    \"\"\"\n",
    "    Func with build nmap module for one \n",
    "    target and create right way of analysis\n",
    "\n",
    "    Args:\n",
    "        target (string): IP addresses of target IP address\n",
    "    \"\"\"\n",
    "    nmap = nmapModule(target)\n",
    "    nmap.db_search_IP()\n",
    "    print(f'{fw.BOLD}LOAD MAIN INFORMATION ABOUT IP ADDRESS{fw.ENDC}')\n",
    "    print(f'{fw.BOLD}PATH OF LOG WITH INFO: {fw.tmp_storage}{fw.cs}{target}.txt{fw.ENDC}')\n",
    "    print('\\n'.join(nmap.whois_ip_nmap()))\n",
    "    print('\\n'.join(nmap.retrieving_geo()))\n",
    "    print('\\n'.join(nmap.traceroute_with_geo()))\n",
    "    print(f'\\n\\n\\n{fw.BOLD}ANALYSIS RESULT: {fw.ENDC}')\n",
    "    print('\\n'.join(nmap.windows_default_scan(methods=methods)))\n",
    "    print('\\n'.join(nmap.hostname_analyse()))\n",
    "    \n",
    "main('8.8.8.8')"
   ]
  },
  {
   "cell_type": "code",
   "execution_count": 6,
   "metadata": {},
   "outputs": [
    {
     "data": {
      "text/plain": [
       "WindowsPath('c:/Users/user/PycharmProjects/VPN_checker')"
      ]
     },
     "execution_count": 6,
     "metadata": {},
     "output_type": "execute_result"
    }
   ],
   "source": [
    "from extra.file_task import FileWork\n",
    "from pathlib import Path\n",
    "import os\n",
    "\n",
    "fw = FileWork()\n",
    "Path('c:/Users/user/PycharmProjects/VPN_checker/extra/').parent"
   ]
  }
 ],
 "metadata": {
  "interpreter": {
   "hash": "b89b5cfaba6639976dc87ff2fec6d58faec662063367e2c229c520fe71072417"
  },
  "kernelspec": {
   "display_name": "Python 3.10.2 64-bit",
   "language": "python",
   "name": "python3"
  },
  "language_info": {
   "codemirror_mode": {
    "name": "ipython",
    "version": 3
   },
   "file_extension": ".py",
   "mimetype": "text/x-python",
   "name": "python",
   "nbconvert_exporter": "python",
   "pygments_lexer": "ipython3",
   "version": "3.10.2"
  },
  "orig_nbformat": 4
 },
 "nbformat": 4,
 "nbformat_minor": 2
}
