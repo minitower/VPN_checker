{
 "cells": [
  {
   "cell_type": "code",
   "execution_count": null,
   "metadata": {},
   "outputs": [],
   "source": [
    "from main import *\n",
    "\n",
    "df = load_target_ip(date=r'2022-01-01')\n",
    "df = df.loc[df['IP'].str.len() <= 16]\n"
   ]
  },
  {
   "cell_type": "code",
   "execution_count": 2,
   "metadata": {},
   "outputs": [
    {
     "name": "stdout",
     "output_type": "stream",
     "text": [
      "Library for VPN check in ip address\n",
      "<multiprocessing.pool.MapResult object at 0x7f85f4ecf280>\n"
     ]
    }
   ],
   "source": [
    "import pandas as pd\n",
    "\n",
    "from vpn_check.nmap_module import nmapModule\n",
    "from extra.file_task import FileWork\n",
    "from extra.ch_driver import ClickHouse\n",
    "import subprocess as sp\n",
    "\n",
    "p_num = 5 # num of process\n",
    "\n",
    "def load_target_ip(limit=None, df_return=True, date=None):\n",
    "    \"\"\"\n",
    "    Func for create and execute query for \"click_data\" table\n",
    "    with current IP address.\n",
    "    :param df_return: if True func return pd.DataFrame object,\n",
    "    else return a SQL response\n",
    "    :param limit: int, limit of downloaded IP addresses\n",
    "    :param referrer: arr, hostname of IP address\n",
    "    :param date: date-like, date for limitation of fetched rows \n",
    "    :return: pd.DataFrame with IP addresses or SQL response\n",
    "    \"\"\"\n",
    "    ch_sql = ClickHouse(env_login=True)\n",
    "    if not date is None and limit is None:\n",
    "        sql_response = ch_sql.execute(f\"\"\"SELECT click_id, ip \n",
    "                                            FROM online.click_data cd \n",
    "                                            WHERE click_id in (SELECT ld.click_id\n",
    "\t\t\t\t\t\t\t                                    FROM online.lead_data ld\n",
    "\t\t\t\t\t\t\t                                    WHERE toDate(ld.updated_at) >= '{str(date)}')\"\"\")\n",
    "    elif not limit is None and date is None:\n",
    "        sql_response = ch_sql.execute(f\"\"\"SELECT click_id, ip \n",
    "                                            FROM online.click_data cd \n",
    "                                            LIMIT {limit}\"\"\")\n",
    "    elif not limit is None and not date is None:\n",
    "        sql_response = ch_sql.execute(f\"\"\"SELECT click_id, ip \n",
    "                                            FROM online.click_data cd \n",
    "                                            WHERE click_id in (SELECT ld.click_id\n",
    "\t\t\t\t\t\t\t                                    FROM online.lead_data ld\n",
    "\t\t\t\t\t\t\t                                    WHERE toDate(ld.updated_at) >= {date} and\n",
    "                                                                LIMIT {limit})\"\"\")\n",
    "    else:\n",
    "        db_warn = input(f\"\"\"\n",
    "                        {fw.WARNING}Func didn't have LIMIT or 'date' column like limitation of response.\n",
    "                        Therefore, this operation will be quite expensive for the database. \n",
    "                        Confirm execution?[y/N]{fw.ENDC}>  \n",
    "                        \"\"\")\n",
    "        if db_warn.lower() in ['yes', 'y']:\n",
    "            sql_response = ch_sql.execute(f\"\"\"SELECT click_id, ip \n",
    "                                            FROM online.click_data cd\"\"\")\n",
    "        else:\n",
    "            raise KeyboardInterrupt('Operation cancel by user')\n",
    "    if df_return:\n",
    "        targets_ip = pd.DataFrame(sql_response, columns=['click_id', 'IP'])\n",
    "    else:\n",
    "        targets_ip = sql_response.copy()\n",
    "    return targets_ip\n",
    "\n",
    "\n",
    "def main(target, methods=None):\n",
    "    \"\"\"\n",
    "    Func with build nmap module for one \n",
    "    target and create right way of analysis\n",
    "\n",
    "    Args:\n",
    "        target (string): IP addresses of target IP address\n",
    "    \"\"\"\n",
    "    nmap = nmapModule(target)\n",
    "    nmap.db_search_IP()\n",
    "    print(f'{fw.BOLD}LOAD MAIN INFORMATION ABOUT IP ADDRESS{fw.ENDC}')\n",
    "    print(f'{fw.BOLD}PATH OF LOG WITH INFO: {fw.tmp_storage}/{target}.txt{fw.ENDC}')\n",
    "    print('\\n'.join(nmap.whois_ip_nmap()))\n",
    "    print('\\n'.join(nmap.retrieving_geo()))\n",
    "    print('\\n'.join(nmap.traceroute_with_geo()))\n",
    "    print(f'\\n\\n\\n{fw.BOLD}ANALYSIS RESULT: {fw.ENDC}')\n",
    "    print('\\n'.join(nmap.windows_default_scan(methods=methods)))\n",
    "    print('\\n'.join(nmap.hostname_analyse()))\n",
    "\n",
    "\n",
    "if __name__ == '__main__':\n",
    "    \n",
    "    fw = FileWork()\n",
    "    target_df = pd.read_csv('./Data_storage/IP_2022.01.01-2022.02.14.csv')\n",
    "    if os.name == 'posix':\n",
    "        sp.Popen(args=['/bin/python3', '-'], stdin=sp.PIPE, stdout=sp.PIPE)\n",
    "        \n"
   ]
  },
  {
   "cell_type": "code",
   "execution_count": 6,
   "metadata": {},
   "outputs": [],
   "source": [
    "import subprocess as sp\n",
    "\n",
    "import shlex\n",
    "from extra.file_task import FileWork\n",
    "\n",
    "fw = FileWork()\n",
    "\n",
    "args = shlex.split(f'/bin/python3 -')\n",
    "\n",
    "proc = sp.Popen(args=args, stdin=sp.PIPE, stdout=sp.PIPE)\n",
    "proc.returncode"
   ]
  },
  {
   "cell_type": "code",
   "execution_count": 12,
   "metadata": {},
   "outputs": [],
   "source": [
    "#proc.communicate(input='import pandas')\n",
    "\n",
    "proc.kill()"
   ]
  }
 ],
 "metadata": {
  "interpreter": {
   "hash": "b89b5cfaba6639976dc87ff2fec6d58faec662063367e2c229c520fe71072417"
  },
  "kernelspec": {
   "display_name": "Python 3.10.2 64-bit",
   "language": "python",
   "name": "python3"
  },
  "language_info": {
   "codemirror_mode": {
    "name": "ipython",
    "version": 3
   },
   "file_extension": ".py",
   "mimetype": "text/x-python",
   "name": "python",
   "nbconvert_exporter": "python",
   "pygments_lexer": "ipython3",
   "version": "3.8.10"
  },
  "orig_nbformat": 4
 },
 "nbformat": 4,
 "nbformat_minor": 2
}
